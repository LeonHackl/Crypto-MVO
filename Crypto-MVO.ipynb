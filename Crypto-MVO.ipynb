{
 "cells": [
  {
   "cell_type": "markdown",
   "id": "facial-melissa",
   "metadata": {},
   "source": [
    "### 1. Import Modules and Data"
   ]
  },
  {
   "cell_type": "code",
   "execution_count": 13,
   "id": "convinced-marking",
   "metadata": {},
   "outputs": [],
   "source": [
    "# import modules\n",
    "import numpy as np\n",
    "import pandas as pd\n",
    "import datetime as dt\n",
    "import warnings\n",
    "import os\n",
    "import glob\n",
    "\n",
    "from pypfopt.efficient_frontier import EfficientFrontier\n",
    "\n",
    "import matplotlib\n",
    "matplotlib.use(\"pgf\")\n",
    "\n",
    "import matplotlib.pyplot as plt\n",
    "\n",
    "plt.rcParams.update({\n",
    "    \"font.family\": \"charter\",\n",
    "    \"text.usetex\": True,\n",
    "    \"pgf.rcfonts\": False})\n",
    "\n",
    "# filter warnings\n",
    "warnings.filterwarnings(\"ignore\")"
   ]
  },
  {
   "cell_type": "code",
   "execution_count": 2,
   "id": "hungry-authorization",
   "metadata": {},
   "outputs": [],
   "source": [
    "# read in all csv-files\n",
    "path = os.getcwd() + \"/Data\"\n",
    "files = glob.glob(os.path.join(path, \"*.csv\"))\n",
    "file_list = list()\n",
    "for f in files:\n",
    "    df = pd.read_csv(f)\n",
    "    file_list.append(df)"
   ]
  },
  {
   "cell_type": "code",
   "execution_count": 3,
   "id": "auburn-economy",
   "metadata": {},
   "outputs": [],
   "source": [
    "# compute simple returns and set date as index\n",
    "for i in range(len(file_list)):\n",
    "    file_list[i][\"Date\"] = pd.to_datetime(file_list[i][\"Date\"])\n",
    "    file_list[i].set_index(\"Date\", inplace = True)   \n",
    "    file_list[i][\"Returns\"] = file_list[i][\"Adj Close\"].pct_change()*100\n",
    "    file_list[i] = file_list[i][\"Returns\"]\n",
    "    file_list[i] = file_list[i].iloc[1:]\n",
    "    file_list[i].name = files[i].split(\"/\")[-1].split(\".\")[0]"
   ]
  },
  {
   "cell_type": "code",
   "execution_count": 4,
   "id": "relative-voluntary",
   "metadata": {},
   "outputs": [],
   "source": [
    "# create dataframe\n",
    "df = pd.concat([file_list[1], file_list[2], \n",
    "                file_list[3], file_list[4], \n",
    "                file_list[6]], axis = 1).dropna()"
   ]
  },
  {
   "cell_type": "markdown",
   "id": "focused-carrier",
   "metadata": {},
   "source": [
    "### 2. Optimization"
   ]
  },
  {
   "cell_type": "code",
   "execution_count": 5,
   "id": "secure-skiing",
   "metadata": {},
   "outputs": [],
   "source": [
    "# sample variance-covariance matrix\n",
    "sigma = df.cov()"
   ]
  },
  {
   "cell_type": "code",
   "execution_count": 6,
   "id": "adjacent-swiss",
   "metadata": {},
   "outputs": [],
   "source": [
    "# sample vector of mean returns\n",
    "mu = df.mean()"
   ]
  },
  {
   "cell_type": "code",
   "execution_count": 7,
   "id": "inappropriate-arrival",
   "metadata": {},
   "outputs": [
    {
     "data": {
      "text/plain": [
       "OrderedDict([('ETH-USD', 0.09013),\n",
       "             ('BTC-USD', 0.87538),\n",
       "             ('ADA-USD', 0.0),\n",
       "             ('LINK-USD', 0.02711),\n",
       "             ('BNB-USD', 0.00738)])"
      ]
     },
     "execution_count": 7,
     "metadata": {},
     "output_type": "execute_result"
    }
   ],
   "source": [
    "# mean-variance portfolio\n",
    "min_vola = EfficientFrontier(mu, sigma, weight_bounds = (0,1))\n",
    "min_vola.min_volatility()\n",
    "weights_mv = min_vola.clean_weights()\n",
    "weights_mv"
   ]
  },
  {
   "cell_type": "code",
   "execution_count": 8,
   "id": "centered-columbia",
   "metadata": {},
   "outputs": [
    {
     "data": {
      "text/plain": [
       "OrderedDict([('ETH-USD', 0.01956),\n",
       "             ('BTC-USD', 0.74917),\n",
       "             ('ADA-USD', 0.02923),\n",
       "             ('LINK-USD', 0.08476),\n",
       "             ('BNB-USD', 0.11729)])"
      ]
     },
     "execution_count": 8,
     "metadata": {},
     "output_type": "execute_result"
    }
   ],
   "source": [
    "# max-quadratic-utility\n",
    "max_qu = EfficientFrontier(mu, sigma, weight_bounds = (0,1))\n",
    "max_qu.max_quadratic_utility(risk_aversion = 0.1)\n",
    "weights_qu = max_qu.clean_weights()\n",
    "weights_qu"
   ]
  },
  {
   "cell_type": "code",
   "execution_count": 9,
   "id": "noticed-solomon",
   "metadata": {},
   "outputs": [
    {
     "data": {
      "text/plain": [
       "OrderedDict([('ETH-USD', 0.0),\n",
       "             ('BTC-USD', 0.0),\n",
       "             ('ADA-USD', 0.21408),\n",
       "             ('LINK-USD', 0.2549),\n",
       "             ('BNB-USD', 0.53102)])"
      ]
     },
     "execution_count": 9,
     "metadata": {},
     "output_type": "execute_result"
    }
   ],
   "source": [
    "# max sharpe-ratio\n",
    "max_ms = EfficientFrontier(mu, sigma, weight_bounds = (0,1))\n",
    "max_ms.max_sharpe(risk_free_rate = 0)\n",
    "weights_ms = max_ms.clean_weights()\n",
    "weights_ms"
   ]
  },
  {
   "cell_type": "markdown",
   "id": "whole-technology",
   "metadata": {},
   "source": [
    "### 3. Efficient Frontier"
   ]
  },
  {
   "cell_type": "code",
   "execution_count": 10,
   "id": "tender-specialist",
   "metadata": {},
   "outputs": [],
   "source": [
    "# generate n random portfolios for plotting\n",
    "n = 10000\n",
    "w = np.random.dirichlet(np.ones(len(mu)), n)\n",
    "\n",
    "# compute returns and volatility for each possible portfolio\n",
    "returns = w.dot(mu)\n",
    "variance = np.sqrt(np.diag(w @ sigma @ w.T))\n",
    "\n",
    "# compute sharpe-ratio\n",
    "sharpe_ratio = (returns - 0) / variance"
   ]
  },
  {
   "cell_type": "code",
   "execution_count": 11,
   "id": "latin-responsibility",
   "metadata": {},
   "outputs": [],
   "source": [
    "returns_mv, variance_mv, _ = min_vola.portfolio_performance()\n",
    "returns_qu, variance_qu, _ = max_qu.portfolio_performance()\n",
    "returns_ms, variance_ms, _ = max_ms.portfolio_performance()"
   ]
  },
  {
   "cell_type": "code",
   "execution_count": 12,
   "id": "placed-poverty",
   "metadata": {},
   "outputs": [],
   "source": [
    "# plot and export efficient frontier\n",
    "fig = plt.figure(figsize = (12, 8))\n",
    "plt.grid(axis = \"y\", linewidth = 0.5, linestyle = \":\")\n",
    "plt.scatter(variance, returns, marker = \"+\", c = sharpe_ratio, cmap = \"plasma\")\n",
    "plt.scatter(variance_ms, returns_ms, marker = \".\", s = 300, c = \"b\", label = \"Maximum Sharpe-Ratio\")\n",
    "plt.scatter(variance_mv, returns_mv, marker = \".\", s = 300, c = \"g\", label = \"Minimum Volatility\")\n",
    "plt.scatter(variance_qu, returns_qu, marker = \".\", s = 300, c = \"r\", label = \"Maximum Quadratic-Utility\")\n",
    "plt.xlabel(\"Volatility\")\n",
    "plt.ylabel(\"Return\")\n",
    "plt.tick_params(direction = \"in\")\n",
    "plt.legend(frameon = False, borderpad = 1.5, labelspacing = 1, prop = {\"size\": 9})\n",
    "plt.xticks(np.arange(4.5, 8, step = 0.5))\n",
    "fig.set_size_inches(w = 5.5, h = 3)\n",
    "plt.savefig(\"ef.pgf\")"
   ]
  }
 ],
 "metadata": {
  "kernelspec": {
   "display_name": "Python 3",
   "language": "python",
   "name": "python3"
  },
  "language_info": {
   "codemirror_mode": {
    "name": "ipython",
    "version": 3
   },
   "file_extension": ".py",
   "mimetype": "text/x-python",
   "name": "python",
   "nbconvert_exporter": "python",
   "pygments_lexer": "ipython3",
   "version": "3.9.2"
  }
 },
 "nbformat": 4,
 "nbformat_minor": 5
}
